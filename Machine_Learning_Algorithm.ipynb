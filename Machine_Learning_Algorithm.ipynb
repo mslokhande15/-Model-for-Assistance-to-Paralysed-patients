{
 "cells": [
  {
   "cell_type": "code",
   "execution_count": 62,
   "metadata": {},
   "outputs": [
    {
     "data": {
      "text/html": [
       "<div>\n",
       "<style scoped>\n",
       "    .dataframe tbody tr th:only-of-type {\n",
       "        vertical-align: middle;\n",
       "    }\n",
       "\n",
       "    .dataframe tbody tr th {\n",
       "        vertical-align: top;\n",
       "    }\n",
       "\n",
       "    .dataframe thead th {\n",
       "        text-align: right;\n",
       "    }\n",
       "</style>\n",
       "<table border=\"1\" class=\"dataframe\">\n",
       "  <thead>\n",
       "    <tr style=\"text-align: right;\">\n",
       "      <th></th>\n",
       "      <th>MAV</th>\n",
       "      <th>RMS</th>\n",
       "      <th>StandardDeviation</th>\n",
       "      <th>Variance</th>\n",
       "      <th>WaveformLength</th>\n",
       "      <th>ZeroCrossing</th>\n",
       "      <th>HandMove</th>\n",
       "    </tr>\n",
       "  </thead>\n",
       "  <tbody>\n",
       "    <tr>\n",
       "      <th>0</th>\n",
       "      <td>0.000545</td>\n",
       "      <td>0.002181</td>\n",
       "      <td>0.002181</td>\n",
       "      <td>0.000005</td>\n",
       "      <td>5.6258</td>\n",
       "      <td>2937</td>\n",
       "      <td>Down</td>\n",
       "    </tr>\n",
       "    <tr>\n",
       "      <th>1</th>\n",
       "      <td>0.000533</td>\n",
       "      <td>0.002179</td>\n",
       "      <td>0.002179</td>\n",
       "      <td>0.000005</td>\n",
       "      <td>6.0973</td>\n",
       "      <td>3373</td>\n",
       "      <td>Down</td>\n",
       "    </tr>\n",
       "    <tr>\n",
       "      <th>2</th>\n",
       "      <td>0.000503</td>\n",
       "      <td>0.002163</td>\n",
       "      <td>0.002163</td>\n",
       "      <td>0.000005</td>\n",
       "      <td>5.4163</td>\n",
       "      <td>3154</td>\n",
       "      <td>Down</td>\n",
       "    </tr>\n",
       "  </tbody>\n",
       "</table>\n",
       "</div>"
      ],
      "text/plain": [
       "        MAV       RMS  StandardDeviation  Variance  WaveformLength  \\\n",
       "0  0.000545  0.002181           0.002181  0.000005          5.6258   \n",
       "1  0.000533  0.002179           0.002179  0.000005          6.0973   \n",
       "2  0.000503  0.002163           0.002163  0.000005          5.4163   \n",
       "\n",
       "   ZeroCrossing HandMove  \n",
       "0          2937     Down  \n",
       "1          3373     Down  \n",
       "2          3154     Down  "
      ]
     },
     "execution_count": 62,
     "metadata": {},
     "output_type": "execute_result"
    }
   ],
   "source": [
    "import pandas as pd\n",
    "df=pd.read_csv('EMG_dataset.csv')\n",
    "df.head(3)"
   ]
  },
  {
   "cell_type": "code",
   "execution_count": 63,
   "metadata": {},
   "outputs": [],
   "source": [
    "target=df.HandMove\n",
    "inputs=df.drop('HandMove',axis='columns')"
   ]
  },
  {
   "cell_type": "code",
   "execution_count": 64,
   "metadata": {},
   "outputs": [
    {
     "data": {
      "text/html": [
       "<div>\n",
       "<style scoped>\n",
       "    .dataframe tbody tr th:only-of-type {\n",
       "        vertical-align: middle;\n",
       "    }\n",
       "\n",
       "    .dataframe tbody tr th {\n",
       "        vertical-align: top;\n",
       "    }\n",
       "\n",
       "    .dataframe thead th {\n",
       "        text-align: right;\n",
       "    }\n",
       "</style>\n",
       "<table border=\"1\" class=\"dataframe\">\n",
       "  <thead>\n",
       "    <tr style=\"text-align: right;\">\n",
       "      <th></th>\n",
       "      <th>Down</th>\n",
       "      <th>Up</th>\n",
       "    </tr>\n",
       "  </thead>\n",
       "  <tbody>\n",
       "    <tr>\n",
       "      <th>0</th>\n",
       "      <td>1</td>\n",
       "      <td>0</td>\n",
       "    </tr>\n",
       "    <tr>\n",
       "      <th>1</th>\n",
       "      <td>1</td>\n",
       "      <td>0</td>\n",
       "    </tr>\n",
       "    <tr>\n",
       "      <th>2</th>\n",
       "      <td>1</td>\n",
       "      <td>0</td>\n",
       "    </tr>\n",
       "  </tbody>\n",
       "</table>\n",
       "</div>"
      ],
      "text/plain": [
       "   Down  Up\n",
       "0     1   0\n",
       "1     1   0\n",
       "2     1   0"
      ]
     },
     "execution_count": 64,
     "metadata": {},
     "output_type": "execute_result"
    }
   ],
   "source": [
    "dummies=pd.get_dummies(df.HandMove)\n",
    "dummies.head(3)"
   ]
  },
  {
   "cell_type": "code",
   "execution_count": 65,
   "metadata": {},
   "outputs": [
    {
     "data": {
      "text/html": [
       "<div>\n",
       "<style scoped>\n",
       "    .dataframe tbody tr th:only-of-type {\n",
       "        vertical-align: middle;\n",
       "    }\n",
       "\n",
       "    .dataframe tbody tr th {\n",
       "        vertical-align: top;\n",
       "    }\n",
       "\n",
       "    .dataframe thead th {\n",
       "        text-align: right;\n",
       "    }\n",
       "</style>\n",
       "<table border=\"1\" class=\"dataframe\">\n",
       "  <thead>\n",
       "    <tr style=\"text-align: right;\">\n",
       "      <th></th>\n",
       "      <th>MAV</th>\n",
       "      <th>RMS</th>\n",
       "      <th>StandardDeviation</th>\n",
       "      <th>Variance</th>\n",
       "      <th>WaveformLength</th>\n",
       "      <th>ZeroCrossing</th>\n",
       "      <th>Down</th>\n",
       "      <th>Up</th>\n",
       "    </tr>\n",
       "  </thead>\n",
       "  <tbody>\n",
       "    <tr>\n",
       "      <th>0</th>\n",
       "      <td>0.000545</td>\n",
       "      <td>0.002181</td>\n",
       "      <td>0.002181</td>\n",
       "      <td>0.000005</td>\n",
       "      <td>5.6258</td>\n",
       "      <td>2937</td>\n",
       "      <td>1</td>\n",
       "      <td>0</td>\n",
       "    </tr>\n",
       "    <tr>\n",
       "      <th>1</th>\n",
       "      <td>0.000533</td>\n",
       "      <td>0.002179</td>\n",
       "      <td>0.002179</td>\n",
       "      <td>0.000005</td>\n",
       "      <td>6.0973</td>\n",
       "      <td>3373</td>\n",
       "      <td>1</td>\n",
       "      <td>0</td>\n",
       "    </tr>\n",
       "    <tr>\n",
       "      <th>2</th>\n",
       "      <td>0.000503</td>\n",
       "      <td>0.002163</td>\n",
       "      <td>0.002163</td>\n",
       "      <td>0.000005</td>\n",
       "      <td>5.4163</td>\n",
       "      <td>3154</td>\n",
       "      <td>1</td>\n",
       "      <td>0</td>\n",
       "    </tr>\n",
       "  </tbody>\n",
       "</table>\n",
       "</div>"
      ],
      "text/plain": [
       "        MAV       RMS  StandardDeviation  Variance  WaveformLength  \\\n",
       "0  0.000545  0.002181           0.002181  0.000005          5.6258   \n",
       "1  0.000533  0.002179           0.002179  0.000005          6.0973   \n",
       "2  0.000503  0.002163           0.002163  0.000005          5.4163   \n",
       "\n",
       "   ZeroCrossing  Down  Up  \n",
       "0          2937     1   0  \n",
       "1          3373     1   0  \n",
       "2          3154     1   0  "
      ]
     },
     "execution_count": 65,
     "metadata": {},
     "output_type": "execute_result"
    }
   ],
   "source": [
    "inputs=pd.concat([inputs,dummies],axis='columns')\n",
    "inputs.head(3)"
   ]
  },
  {
   "cell_type": "code",
   "execution_count": 66,
   "metadata": {},
   "outputs": [],
   "source": [
    "from sklearn.model_selection import train_test_split\n",
    "X_train, X_test, y_train, y_test = train_test_split(inputs,target,test_size=0.2 )"
   ]
  },
  {
   "cell_type": "code",
   "execution_count": 67,
   "metadata": {},
   "outputs": [],
   "source": [
    "from sklearn.naive_bayes import GaussianNB\n",
    "model=GaussianNB()"
   ]
  },
  {
   "cell_type": "code",
   "execution_count": 68,
   "metadata": {},
   "outputs": [
    {
     "data": {
      "text/plain": [
       "GaussianNB()"
      ]
     },
     "execution_count": 68,
     "metadata": {},
     "output_type": "execute_result"
    }
   ],
   "source": [
    "model.fit(X_train ,y_train)"
   ]
  },
  {
   "cell_type": "code",
   "execution_count": 69,
   "metadata": {},
   "outputs": [
    {
     "data": {
      "text/plain": [
       "1.0"
      ]
     },
     "execution_count": 69,
     "metadata": {},
     "output_type": "execute_result"
    }
   ],
   "source": [
    "model.score(X_test ,y_test)"
   ]
  },
  {
   "cell_type": "code",
   "execution_count": 70,
   "metadata": {},
   "outputs": [
    {
     "data": {
      "text/html": [
       "<div>\n",
       "<style scoped>\n",
       "    .dataframe tbody tr th:only-of-type {\n",
       "        vertical-align: middle;\n",
       "    }\n",
       "\n",
       "    .dataframe tbody tr th {\n",
       "        vertical-align: top;\n",
       "    }\n",
       "\n",
       "    .dataframe thead th {\n",
       "        text-align: right;\n",
       "    }\n",
       "</style>\n",
       "<table border=\"1\" class=\"dataframe\">\n",
       "  <thead>\n",
       "    <tr style=\"text-align: right;\">\n",
       "      <th></th>\n",
       "      <th>MAV</th>\n",
       "      <th>RMS</th>\n",
       "      <th>StandardDeviation</th>\n",
       "      <th>Variance</th>\n",
       "      <th>WaveformLength</th>\n",
       "      <th>ZeroCrossing</th>\n",
       "      <th>Down</th>\n",
       "      <th>Up</th>\n",
       "    </tr>\n",
       "  </thead>\n",
       "  <tbody>\n",
       "    <tr>\n",
       "      <th>19</th>\n",
       "      <td>0.000338</td>\n",
       "      <td>0.001327</td>\n",
       "      <td>0.001327</td>\n",
       "      <td>0.000002</td>\n",
       "      <td>4.7448</td>\n",
       "      <td>3506</td>\n",
       "      <td>0</td>\n",
       "      <td>1</td>\n",
       "    </tr>\n",
       "    <tr>\n",
       "      <th>45</th>\n",
       "      <td>0.000352</td>\n",
       "      <td>0.001321</td>\n",
       "      <td>0.001321</td>\n",
       "      <td>0.000002</td>\n",
       "      <td>4.3159</td>\n",
       "      <td>3023</td>\n",
       "      <td>1</td>\n",
       "      <td>0</td>\n",
       "    </tr>\n",
       "    <tr>\n",
       "      <th>39</th>\n",
       "      <td>0.000702</td>\n",
       "      <td>0.002886</td>\n",
       "      <td>0.002886</td>\n",
       "      <td>0.000008</td>\n",
       "      <td>6.9592</td>\n",
       "      <td>2917</td>\n",
       "      <td>0</td>\n",
       "      <td>1</td>\n",
       "    </tr>\n",
       "    <tr>\n",
       "      <th>15</th>\n",
       "      <td>0.000409</td>\n",
       "      <td>0.001934</td>\n",
       "      <td>0.001934</td>\n",
       "      <td>0.000004</td>\n",
       "      <td>5.2272</td>\n",
       "      <td>3456</td>\n",
       "      <td>1</td>\n",
       "      <td>0</td>\n",
       "    </tr>\n",
       "    <tr>\n",
       "      <th>41</th>\n",
       "      <td>0.000822</td>\n",
       "      <td>0.003526</td>\n",
       "      <td>0.003526</td>\n",
       "      <td>0.000012</td>\n",
       "      <td>7.8530</td>\n",
       "      <td>3091</td>\n",
       "      <td>0</td>\n",
       "      <td>1</td>\n",
       "    </tr>\n",
       "    <tr>\n",
       "      <th>43</th>\n",
       "      <td>0.000806</td>\n",
       "      <td>0.003458</td>\n",
       "      <td>0.003458</td>\n",
       "      <td>0.000012</td>\n",
       "      <td>7.3792</td>\n",
       "      <td>3105</td>\n",
       "      <td>0</td>\n",
       "      <td>1</td>\n",
       "    </tr>\n",
       "    <tr>\n",
       "      <th>26</th>\n",
       "      <td>0.001133</td>\n",
       "      <td>0.004573</td>\n",
       "      <td>0.004573</td>\n",
       "      <td>0.000021</td>\n",
       "      <td>10.1840</td>\n",
       "      <td>3343</td>\n",
       "      <td>0</td>\n",
       "      <td>1</td>\n",
       "    </tr>\n",
       "    <tr>\n",
       "      <th>18</th>\n",
       "      <td>0.000382</td>\n",
       "      <td>0.001547</td>\n",
       "      <td>0.001547</td>\n",
       "      <td>0.000002</td>\n",
       "      <td>4.9051</td>\n",
       "      <td>3299</td>\n",
       "      <td>1</td>\n",
       "      <td>0</td>\n",
       "    </tr>\n",
       "    <tr>\n",
       "      <th>46</th>\n",
       "      <td>0.000324</td>\n",
       "      <td>0.001257</td>\n",
       "      <td>0.001257</td>\n",
       "      <td>0.000002</td>\n",
       "      <td>4.5059</td>\n",
       "      <td>3527</td>\n",
       "      <td>1</td>\n",
       "      <td>0</td>\n",
       "    </tr>\n",
       "    <tr>\n",
       "      <th>7</th>\n",
       "      <td>0.000318</td>\n",
       "      <td>0.001349</td>\n",
       "      <td>0.001349</td>\n",
       "      <td>0.000002</td>\n",
       "      <td>4.4816</td>\n",
       "      <td>3557</td>\n",
       "      <td>1</td>\n",
       "      <td>0</td>\n",
       "    </tr>\n",
       "  </tbody>\n",
       "</table>\n",
       "</div>"
      ],
      "text/plain": [
       "         MAV       RMS  StandardDeviation  Variance  WaveformLength  \\\n",
       "19  0.000338  0.001327           0.001327  0.000002          4.7448   \n",
       "45  0.000352  0.001321           0.001321  0.000002          4.3159   \n",
       "39  0.000702  0.002886           0.002886  0.000008          6.9592   \n",
       "15  0.000409  0.001934           0.001934  0.000004          5.2272   \n",
       "41  0.000822  0.003526           0.003526  0.000012          7.8530   \n",
       "43  0.000806  0.003458           0.003458  0.000012          7.3792   \n",
       "26  0.001133  0.004573           0.004573  0.000021         10.1840   \n",
       "18  0.000382  0.001547           0.001547  0.000002          4.9051   \n",
       "46  0.000324  0.001257           0.001257  0.000002          4.5059   \n",
       "7   0.000318  0.001349           0.001349  0.000002          4.4816   \n",
       "\n",
       "    ZeroCrossing  Down  Up  \n",
       "19          3506     0   1  \n",
       "45          3023     1   0  \n",
       "39          2917     0   1  \n",
       "15          3456     1   0  \n",
       "41          3091     0   1  \n",
       "43          3105     0   1  \n",
       "26          3343     0   1  \n",
       "18          3299     1   0  \n",
       "46          3527     1   0  \n",
       "7           3557     1   0  "
      ]
     },
     "execution_count": 70,
     "metadata": {},
     "output_type": "execute_result"
    }
   ],
   "source": [
    "X_test"
   ]
  },
  {
   "cell_type": "code",
   "execution_count": 71,
   "metadata": {},
   "outputs": [
    {
     "data": {
      "text/plain": [
       "19      Up\n",
       "45    Down\n",
       "39      Up\n",
       "15    Down\n",
       "41      Up\n",
       "43      Up\n",
       "26      Up\n",
       "18    Down\n",
       "46    Down\n",
       "7     Down\n",
       "Name: HandMove, dtype: object"
      ]
     },
     "execution_count": 71,
     "metadata": {},
     "output_type": "execute_result"
    }
   ],
   "source": [
    "y_test"
   ]
  },
  {
   "cell_type": "code",
   "execution_count": 77,
   "metadata": {},
   "outputs": [
    {
     "data": {
      "text/html": [
       "<div>\n",
       "<style scoped>\n",
       "    .dataframe tbody tr th:only-of-type {\n",
       "        vertical-align: middle;\n",
       "    }\n",
       "\n",
       "    .dataframe tbody tr th {\n",
       "        vertical-align: top;\n",
       "    }\n",
       "\n",
       "    .dataframe thead th {\n",
       "        text-align: right;\n",
       "    }\n",
       "</style>\n",
       "<table border=\"1\" class=\"dataframe\">\n",
       "  <thead>\n",
       "    <tr style=\"text-align: right;\">\n",
       "      <th></th>\n",
       "      <th>Down</th>\n",
       "      <th>Up</th>\n",
       "    </tr>\n",
       "  </thead>\n",
       "  <tbody>\n",
       "    <tr>\n",
       "      <th>19</th>\n",
       "      <td>0</td>\n",
       "      <td>1</td>\n",
       "    </tr>\n",
       "    <tr>\n",
       "      <th>45</th>\n",
       "      <td>1</td>\n",
       "      <td>0</td>\n",
       "    </tr>\n",
       "    <tr>\n",
       "      <th>39</th>\n",
       "      <td>0</td>\n",
       "      <td>1</td>\n",
       "    </tr>\n",
       "  </tbody>\n",
       "</table>\n",
       "</div>"
      ],
      "text/plain": [
       "    Down  Up\n",
       "19     0   1\n",
       "45     1   0\n",
       "39     0   1"
      ]
     },
     "execution_count": 77,
     "metadata": {},
     "output_type": "execute_result"
    }
   ],
   "source": [
    "dummy=pd.get_dummies(y_test)\n",
    "dummy.head(3)"
   ]
  },
  {
   "cell_type": "code",
   "execution_count": 78,
   "metadata": {},
   "outputs": [
    {
     "data": {
      "text/plain": [
       "19      Up\n",
       "45    Down\n",
       "39      Up\n",
       "15    Down\n",
       "41      Up\n",
       "43      Up\n",
       "26      Up\n",
       "18    Down\n",
       "46    Down\n",
       "7     Down\n",
       "Name: HandMove, dtype: object"
      ]
     },
     "execution_count": 78,
     "metadata": {},
     "output_type": "execute_result"
    }
   ],
   "source": [
    "y_test"
   ]
  },
  {
   "cell_type": "code",
   "execution_count": 91,
   "metadata": {},
   "outputs": [],
   "source": [
    "Actual=X_test.Down"
   ]
  },
  {
   "cell_type": "code",
   "execution_count": 92,
   "metadata": {},
   "outputs": [],
   "source": [
    "Predicted=dummy.Down"
   ]
  },
  {
   "cell_type": "code",
   "execution_count": 93,
   "metadata": {},
   "outputs": [],
   "source": [
    "from sklearn.metrics import confusion_matrix\n",
    "result= confusion_matrix(Actual,Predicted)"
   ]
  },
  {
   "cell_type": "code",
   "execution_count": 94,
   "metadata": {},
   "outputs": [
    {
     "name": "stdout",
     "output_type": "stream",
     "text": [
      "[[5 0]\n",
      " [0 5]]\n"
     ]
    }
   ],
   "source": [
    "print(result)"
   ]
  },
  {
   "cell_type": "code",
   "execution_count": 98,
   "metadata": {},
   "outputs": [
    {
     "name": "stdout",
     "output_type": "stream",
     "text": [
      "1.0\n"
     ]
    }
   ],
   "source": [
    "from sklearn.metrics import accuracy_score \n",
    "Accuracy=accuracy_score(Actual, Predicted) \n",
    "print(Accuracy)"
   ]
  },
  {
   "cell_type": "code",
   "execution_count": null,
   "metadata": {},
   "outputs": [],
   "source": []
  }
 ],
 "metadata": {
  "kernelspec": {
   "display_name": "Python 3",
   "language": "python",
   "name": "python3"
  },
  "language_info": {
   "codemirror_mode": {
    "name": "ipython",
    "version": 3
   },
   "file_extension": ".py",
   "mimetype": "text/x-python",
   "name": "python",
   "nbconvert_exporter": "python",
   "pygments_lexer": "ipython3",
   "version": "3.8.3"
  }
 },
 "nbformat": 4,
 "nbformat_minor": 4
}
